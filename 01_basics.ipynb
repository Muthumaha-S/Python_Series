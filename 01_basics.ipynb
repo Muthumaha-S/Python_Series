{
  "nbformat": 4,
  "nbformat_minor": 0,
  "metadata": {
    "colab": {
      "provenance": []
    },
    "kernelspec": {
      "name": "python3",
      "display_name": "Python 3"
    },
    "language_info": {
      "name": "python"
    }
  },
  "cells": [
    {
      "cell_type": "markdown",
      "source": [
        "### 1.Variables_datatypes"
      ],
      "metadata": {
        "id": "XixORdRW-dqL"
      }
    },
    {
      "cell_type": "markdown",
      "source": [
        "Problem:\n",
        "A retail chain wants to generate SKU labels that show product name, price, and stock availability in a single formatted string. They also have raw price data as strings and want to safely convert them into floats."
      ],
      "metadata": {
        "id": "EDL3VHgn-smM"
      }
    },
    {
      "cell_type": "code",
      "execution_count": null,
      "metadata": {
        "colab": {
          "base_uri": "https://localhost:8080/"
        },
        "id": "DB-b_MNI-Nbh",
        "outputId": "45e73506-47fd-4b77-e602-e426a64b258a"
      },
      "outputs": [
        {
          "output_type": "stream",
          "name": "stdout",
          "text": [
            "Laptop - ₹75000.0 - In Stock: True\n"
          ]
        }
      ],
      "source": [
        "# Product details\n",
        "product_name = \"Laptop\"\n",
        "price_str = \"75000\"   # stored as string\n",
        "stock_available = True\n",
        "\n",
        "# Convert string to float\n",
        "price = float(price_str)\n",
        "\n",
        "# Create SKU label\n",
        "sku_label = f\"{product_name} - ₹{price} - In Stock: {stock_available}\"\n",
        "\n",
        "print(sku_label)\n"
      ]
    },
    {
      "cell_type": "markdown",
      "source": [
        "##2. Control_flow"
      ],
      "metadata": {
        "id": "ITnrQ8mj-aDb"
      }
    },
    {
      "cell_type": "markdown",
      "source": [
        "Problem:\n",
        "During a festival, the store applies dynamic discounts:\n",
        "\n",
        "10% for items above ₹300\n",
        "\n",
        "5% for items ₹300 or less\n",
        "\n",
        "You have a list of prices. Print original and discounted prices."
      ],
      "metadata": {
        "id": "AftroVX4_CgJ"
      }
    },
    {
      "cell_type": "code",
      "source": [
        "prices = [100, 250, 400, 50, 900]\n",
        "discounted = []\n",
        "\n",
        "for p in prices:\n",
        "    if p > 300:\n",
        "        discounted.append(p * 0.9)   # 10% discoYou are helping a friend sort numbers they collected from a small survey. They want to know which numbers are even and which are odd.unt\n",
        "    else:\n",
        "        discounted.append(p * 0.95)  # 5% discount\n",
        "\n",
        "print(\"Original Prices:\", prices)\n",
        "print(\"Discounted Prices:\", discounted)\n"
      ],
      "metadata": {
        "colab": {
          "base_uri": "https://localhost:8080/"
        },
        "id": "RYyrWjn8_B_M",
        "outputId": "282ef327-ebb9-4e75-9133-440db5eae321"
      },
      "execution_count": null,
      "outputs": [
        {
          "output_type": "stream",
          "name": "stdout",
          "text": [
            "Original Prices: [100, 250, 400, 50, 900]\n",
            "Discounted Prices: [95.0, 237.5, 360.0, 47.5, 810.0]\n"
          ]
        }
      ]
    },
    {
      "cell_type": "markdown",
      "source": [
        "##3.Loops"
      ],
      "metadata": {
        "id": "XeFfyPBG_PKh"
      }
    },
    {
      "cell_type": "markdown",
      "source": [
        "Problem : You are helping a friend sort numbers they collected from a small survey. They want to know which numbers are even and which are odd."
      ],
      "metadata": {
        "id": "3ACjEtCk_-iU"
      }
    },
    {
      "cell_type": "code",
      "source": [
        "# List of numbers\n",
        "numbers = [1, 4, 7, 10, 13, 16]\n",
        "\n",
        "# Loop through each number in the list\n",
        "for num in numbers:\n",
        "    # Check if the number is divisible by 2\n",
        "    if num % 2 == 0:\n",
        "        print(f\"{num} is even\")\n",
        "    else:\n",
        "        print(f\"{num} is odd\")\n"
      ],
      "metadata": {
        "colab": {
          "base_uri": "https://localhost:8080/"
        },
        "id": "HAk40NgMAFpy",
        "outputId": "7f0a07eb-d3ac-422c-ab48-b60023547e98"
      },
      "execution_count": null,
      "outputs": [
        {
          "output_type": "stream",
          "name": "stdout",
          "text": [
            "1 is odd\n",
            "4 is even\n",
            "7 is odd\n",
            "10 is even\n",
            "13 is odd\n",
            "16 is even\n"
          ]
        }
      ]
    },
    {
      "cell_type": "markdown",
      "source": [
        "## 4.Functions"
      ],
      "metadata": {
        "id": "BD2rQarFASZ1"
      }
    },
    {
      "cell_type": "markdown",
      "source": [
        "Problem:\n",
        "A university calculates student GPA. Some courses carry more credits (weights).\n",
        "Write a reusable function that calculates GPA with weights."
      ],
      "metadata": {
        "id": "0sOhH5sMAiwZ"
      }
    },
    {
      "cell_type": "code",
      "source": [
        "def calculate_gpa(marks, credits=None):\n",
        "    if credits:\n",
        "        weighted_sum = sum(m * c for m, c in zip(marks, credits))\n",
        "        return weighted_sum / sum(credits)\n",
        "    else:\n",
        "        return sum(marks) / len(marks)\n",
        "\n",
        "# Example\n",
        "marks = [80, 90, 70]\n",
        "credits = [3, 4, 2]\n",
        "\n",
        "print(\"Simple GPA:\", calculate_gpa(marks))\n",
        "print(\"Weighted GPA:\", calculate_gpa(marks, credits))\n"
      ],
      "metadata": {
        "colab": {
          "base_uri": "https://localhost:8080/"
        },
        "id": "s9-BiW2yAmQP",
        "outputId": "2c83d192-d66f-40cf-ad5e-2bec49b99f48"
      },
      "execution_count": null,
      "outputs": [
        {
          "output_type": "stream",
          "name": "stdout",
          "text": [
            "Simple GPA: 80.0\n",
            "Weighted GPA: 82.22222222222223\n"
          ]
        }
      ]
    },
    {
      "cell_type": "markdown",
      "source": [
        "##5.Lamda_comprehensions"
      ],
      "metadata": {
        "id": "6Z_PHM7XArem"
      }
    },
    {
      "cell_type": "markdown",
      "source": [
        "Problem:\n",
        "A company collects employee emails. They want only emails from their domain (@corp.com)."
      ],
      "metadata": {
        "id": "Dki7gkmHA3bj"
      }
    },
    {
      "cell_type": "code",
      "source": [
        "emails = [\"john@corp.com\", \"alice@gmail.com\", \"bob@corp.com\", \"sara@yahoo.com\"]\n",
        "\n",
        "# Filter with comprehension\n",
        "corp_emails = [e for e in emails if e.endswith(\"@corp.com\")]\n",
        "\n",
        "# Using lambda + filter\n",
        "corp_emails_lambda = list(filter(lambda e: e.endswith(\"@corp.com\"), emails))\n",
        "\n",
        "print(\"Corporate Emails (comprehension):\", corp_emails)\n",
        "print(\"Corporate Emails (lambda):\", corp_emails_lambda)\n"
      ],
      "metadata": {
        "colab": {
          "base_uri": "https://localhost:8080/"
        },
        "id": "WsRFonbKA8wB",
        "outputId": "3095bcd7-77b5-44f9-cea9-538aa7de9f1f"
      },
      "execution_count": null,
      "outputs": [
        {
          "output_type": "stream",
          "name": "stdout",
          "text": [
            "Corporate Emails (comprehension): ['john@corp.com', 'bob@corp.com']\n",
            "Corporate Emails (lambda): ['john@corp.com', 'bob@corp.com']\n"
          ]
        }
      ]
    },
    {
      "cell_type": "markdown",
      "source": [
        "##6.Exception_Handling"
      ],
      "metadata": {
        "id": "xk_Nve0zBCo5"
      }
    },
    {
      "cell_type": "markdown",
      "source": [
        "Problem:\n",
        "In a billing system, sometimes product quantity is zero, causing a divide-by-zero error. Handle it safely."
      ],
      "metadata": {
        "id": "7yMvu7fEBOIC"
      }
    },
    {
      "cell_type": "code",
      "source": [
        "def price_per_unit(total_price, quantity):\n",
        "    try:\n",
        "        return total_price / quantity\n",
        "    except ZeroDivisionError:\n",
        "        return \"Invalid quantity (cannot divide by zero)\"\n",
        "\n",
        "print(price_per_unit(500, 5))\n",
        "print(price_per_unit(500, 0))  # safe handling\n"
      ],
      "metadata": {
        "colab": {
          "base_uri": "https://localhost:8080/"
        },
        "id": "3zCrMTGtBPv2",
        "outputId": "6ae5f67a-ece7-4af4-e21c-6b2358bf43f2"
      },
      "execution_count": null,
      "outputs": [
        {
          "output_type": "stream",
          "name": "stdout",
          "text": [
            "100.0\n",
            "Invalid quantity (cannot divide by zero)\n"
          ]
        }
      ]
    },
    {
      "cell_type": "markdown",
      "source": [
        "## 7. Files\n"
      ],
      "metadata": {
        "id": "pgWy-MkuBUmw"
      }
    },
    {
      "cell_type": "markdown",
      "source": [
        "Problem:\n",
        "You are a teacher and want to maintain a record of students’ scores in a subject. You want to:\n",
        "\n",
        "Create a file to store student names and scores.\n",
        "\n",
        "Add new student records.\n",
        "\n",
        "Read and display all student records.\n",
        "\n",
        "Count how many students scored above a certain threshold."
      ],
      "metadata": {
        "id": "M97v_TFpDDdx"
      }
    },
    {
      "cell_type": "code",
      "source": [
        "# 1. Create and write to a file\n",
        "with open(\"scores.txt\", \"w\") as file:\n",
        "    file.write(\"Alice,85\\n\")\n",
        "    file.write(\"Bob,78\\n\")\n",
        "    file.write(\"Charlie,92\\n\")\n",
        "\n",
        "# 2. Append new records\n",
        "with open(\"scores.txt\", \"a\") as file:\n",
        "    file.write(\"David,88\\n\")\n",
        "\n",
        "# 3. Read the file and display content\n",
        "with open(\"scores.txt\", \"r\") as file:\n",
        "    print(\"Student Scores:\")\n",
        "    for line in file:\n",
        "        print(line.strip())\n",
        "\n",
        "# 4. Count students scoring above 80\n",
        "count = 0\n",
        "with open(\"scores.txt\", \"r\") as file:\n",
        "    for line in file:\n",
        "        name, score = line.strip().split(\",\")\n",
        "        if int(score) > 80:\n",
        "            count += 1\n",
        "\n",
        "print(f\"\\nNumber of students scoring above 80: {count}\")\n"
      ],
      "metadata": {
        "colab": {
          "base_uri": "https://localhost:8080/"
        },
        "id": "jbWw6vL9DIvx",
        "outputId": "bcc3584f-24c2-43ae-ec1b-069f053f1eaa"
      },
      "execution_count": null,
      "outputs": [
        {
          "output_type": "stream",
          "name": "stdout",
          "text": [
            "Student Scores:\n",
            "Alice,85\n",
            "Bob,78\n",
            "Charlie,92\n",
            "David,88\n",
            "\n",
            "Number of students scoring above 80: 3\n"
          ]
        }
      ]
    },
    {
      "cell_type": "markdown",
      "source": [
        "##8.OOPS"
      ],
      "metadata": {
        "id": "NtzsbIDhDQC0"
      }
    },
    {
      "cell_type": "markdown",
      "source": [
        "Problem:\n",
        "Create an invoice system that allows adding multiple items and automatically calculates the total amount including 18% GST."
      ],
      "metadata": {
        "id": "89hcxgMwDWDg"
      }
    },
    {
      "cell_type": "code",
      "source": [
        "class Invoice:\n",
        "    def __init__(self):\n",
        "        self.items = []\n",
        "\n",
        "    def add_item(self, name, price):\n",
        "        self.items.append((name, price))\n",
        "\n",
        "    def total_with_gst(self):\n",
        "        total = sum(price for _, price in self.items)\n",
        "        return total * 1.18  # 18% GST\n",
        "\n",
        "# Example\n",
        "inv = Invoice()\n",
        "inv.add_item(\"Laptop\", 50000)\n",
        "inv.add_item(\"Mouse\", 1000)\n",
        "\n",
        "print(\"Total with GST:\", inv.total_with_gst())\n"
      ],
      "metadata": {
        "colab": {
          "base_uri": "https://localhost:8080/"
        },
        "id": "E3JUyJ4bDZf1",
        "outputId": "3d057218-f11f-440d-9e16-cd50647fe29a"
      },
      "execution_count": null,
      "outputs": [
        {
          "output_type": "stream",
          "name": "stdout",
          "text": [
            "Total with GST: 60180.0\n"
          ]
        }
      ]
    },
    {
      "cell_type": "markdown",
      "source": [
        "##9.Iteretors"
      ],
      "metadata": {
        "id": "Rkv8F0pQDsX1"
      }
    },
    {
      "cell_type": "markdown",
      "source": [
        " Problem: Implement a system that processes streaming sensor data to compute a rolling average using iterators and generators for efficient memory usage."
      ],
      "metadata": {
        "id": "NZLX4xF9D9s_"
      }
    },
    {
      "cell_type": "code",
      "source": [
        "def rolling_average(data, n=3):\n",
        "    for i in range(len(data) - n + 1):\n",
        "        yield sum(data[i:i+n]) / n\n",
        "\n",
        "values = [10, 20, 30, 40, 50]\n",
        "print(list(rolling_average(values, 3)))\n"
      ],
      "metadata": {
        "colab": {
          "base_uri": "https://localhost:8080/"
        },
        "id": "BuE23OEEECIN",
        "outputId": "caf19f29-e18b-40f1-c029-571e02cd3443"
      },
      "execution_count": null,
      "outputs": [
        {
          "output_type": "stream",
          "name": "stdout",
          "text": [
            "[20.0, 30.0, 40.0]\n"
          ]
        }
      ]
    },
    {
      "cell_type": "markdown",
      "source": [
        "##10.Contextmanagers"
      ],
      "metadata": {
        "id": "TQVdZ5QYEh95"
      }
    },
    {
      "cell_type": "markdown",
      "source": [
        "Problem : Create a system that measures and logs the execution time of a block of code using context managers, while allowing configurable logging through command-line arguments."
      ],
      "metadata": {
        "id": "yQAavl46EpNL"
      }
    },
    {
      "cell_type": "code",
      "source": [
        "import time\n",
        "from contextlib import contextmanager\n",
        "\n",
        "@contextmanager\n",
        "def timer():\n",
        "    start = time.time()\n",
        "    yield\n",
        "    end = time.time()\n",
        "    print(f\"Time taken: {end-start:.2f} seconds\")\n",
        "\n",
        "with timer():\n",
        "    total = sum(i for i in range(1000000))\n"
      ],
      "metadata": {
        "colab": {
          "base_uri": "https://localhost:8080/"
        },
        "id": "41nOAhytEvnR",
        "outputId": "e8338a3c-c573-4e03-a8d4-144cfdd9874f"
      },
      "execution_count": null,
      "outputs": [
        {
          "output_type": "stream",
          "name": "stdout",
          "text": [
            "Time taken: 0.07 seconds\n"
          ]
        }
      ]
    },
    {
      "cell_type": "markdown",
      "source": [
        "##11.Modules ,Packages"
      ],
      "metadata": {
        "id": "qTt_9ciXFDzm"
      }
    },
    {
      "cell_type": "markdown",
      "source": [
        "Problem : Structure a Python project using modules and packages, ensuring functions are organized and imported correctly for maintainability and clarity."
      ],
      "metadata": {
        "id": "JXuP2tDvFNV4"
      }
    },
    {
      "cell_type": "markdown",
      "source": [
        "Answer (layout):"
      ],
      "metadata": {
        "id": "hQg8IPQyFUZs"
      }
    },
    {
      "cell_type": "markdown",
      "source": [
        "myproject/\n",
        "\n",
        "      ├── utils.py\n",
        "\n",
        "      └── main.py\n"
      ],
      "metadata": {
        "id": "PGCCWKVvFitT"
      }
    },
    {
      "cell_type": "markdown",
      "source": [
        "utils.py"
      ],
      "metadata": {
        "id": "H7UYFb4-FcPw"
      }
    },
    {
      "cell_type": "code",
      "source": [
        "def greet(name):\n",
        "    return f\"Hello, {name}\"\n"
      ],
      "metadata": {
        "id": "lsQ-JJSkFg5q"
      },
      "execution_count": null,
      "outputs": []
    },
    {
      "cell_type": "markdown",
      "source": [
        "main.py"
      ],
      "metadata": {
        "id": "feuB8MGlF8gw"
      }
    },
    {
      "cell_type": "code",
      "source": [
        "from utils import greet\n",
        "\n",
        "print(greet(\"Alice\"))\n"
      ],
      "metadata": {
        "id": "gyqbYCDOGLBj"
      },
      "execution_count": null,
      "outputs": []
    }
  ]
}