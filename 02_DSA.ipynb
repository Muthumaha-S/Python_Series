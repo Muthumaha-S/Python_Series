{
  "nbformat": 4,
  "nbformat_minor": 0,
  "metadata": {
    "colab": {
      "provenance": []
    },
    "kernelspec": {
      "name": "python3",
      "display_name": "Python 3"
    },
    "language_info": {
      "name": "python"
    }
  },
  "cells": [
    {
      "cell_type": "markdown",
      "source": [
        "##1.Arrays"
      ],
      "metadata": {
        "id": "5tx0hm-ndcSq"
      }
    },
    {
      "cell_type": "markdown",
      "source": [
        "Problem:\n",
        "A supermarket wants to manage its inventory more efficiently. They need to:\n",
        "\n",
        "Remove duplicate product IDs.\n",
        "\n",
        "Sort product IDs in ascending order.\n",
        "\n",
        "Check if two product codes are anagrams (e.g., AB12 and 1BA2)."
      ],
      "metadata": {
        "id": "r3wHE1cxdjaS"
      }
    },
    {
      "cell_type": "code",
      "source": [
        "# Inventory with duplicates\n",
        "product_ids = [105, 101, 103, 101, 105, 102]\n",
        "\n",
        "# Remove duplicates and sort\n",
        "unique_ids = sorted(set(product_ids))\n",
        "print(\"Unique, Sorted Product IDs:\", unique_ids)\n",
        "\n",
        "# Check anagram function\n",
        "def is_anagram(code1, code2):\n",
        "    return sorted(code1) == sorted(code2)\n",
        "\n",
        "print(\"Are 'AB12' and '1BA2' anagrams?\", is_anagram(\"AB12\", \"1BA2\"))\n"
      ],
      "metadata": {
        "colab": {
          "base_uri": "https://localhost:8080/"
        },
        "id": "bvxlJ7Hxdl8p",
        "outputId": "f8961ecb-6127-4a1a-eca6-c8c3f6049c9d"
      },
      "execution_count": null,
      "outputs": [
        {
          "output_type": "stream",
          "name": "stdout",
          "text": [
            "Unique, Sorted Product IDs: [101, 102, 103, 105]\n",
            "Are 'AB12' and '1BA2' anagrams? True\n"
          ]
        }
      ]
    },
    {
      "cell_type": "markdown",
      "source": [
        "## 2.List"
      ],
      "metadata": {
        "id": "2wtoXNjLhRwT"
      }
    },
    {
      "cell_type": "markdown",
      "source": [
        "Problem :\n",
        "A person maintains a shopping list for the week. They often add the same item multiple times. They want to:\n",
        "\n",
        "Remove duplicate items to avoid buying the same thing twice.\n",
        "\n",
        "Sort items alphabetically for easy navigation in the store.\n",
        "\n",
        "Count how many times a particular item appears on the list."
      ],
      "metadata": {
        "id": "t9qguxzfhUeG"
      }
    },
    {
      "cell_type": "code",
      "source": [
        "shopping_list = [\"milk\", \"bread\", \"eggs\", \"milk\", \"bread\", \"cheese\"]\n",
        "\n",
        "# Remove duplicates and sort\n",
        "unique_list = sorted(set(shopping_list))\n",
        "print(\"Unique, Sorted Shopping List:\", unique_list)\n",
        "\n",
        "# Count occurrences\n",
        "print(\"Milk appears:\", shopping_list.count(\"milk\"), \"times\")\n"
      ],
      "metadata": {
        "colab": {
          "base_uri": "https://localhost:8080/"
        },
        "id": "ZUDLJU5VhYq3",
        "outputId": "cbb52838-29fa-4c01-e2bd-f012b00d5111"
      },
      "execution_count": null,
      "outputs": [
        {
          "output_type": "stream",
          "name": "stdout",
          "text": [
            "Unique, Sorted Shopping List: ['bread', 'cheese', 'eggs', 'milk']\n",
            "Milk appears: 2 times\n"
          ]
        }
      ]
    },
    {
      "cell_type": "markdown",
      "source": [
        "##3.Tuple"
      ],
      "metadata": {
        "id": "h2TvZCDrha_j"
      }
    },
    {
      "cell_type": "markdown",
      "source": [
        "Problem :\n",
        "An airline maintains a fixed set of flight codes for reference in their system. Since these codes should not change frequently, they are stored as a tuple. The airline wants to:\n",
        "\n",
        "Access specific flight codes quickly.\n",
        "\n",
        "Check whether a particular flight code exists.\n",
        "\n",
        "Add new flight codes when introducing new routes."
      ],
      "metadata": {
        "id": "n3eZykk3herv"
      }
    },
    {
      "cell_type": "code",
      "source": [
        "flight_codes = (\"AI101\", \"BA202\", \"DL303\")\n",
        "\n",
        "# Access first flight\n",
        "print(\"First flight code:\", flight_codes[0])\n",
        "\n",
        "# Check if a flight exists\n",
        "print(\"Is 'BA202' in flights?\", \"BA202\" in flight_codes)\n",
        "\n",
        "# Update tuple by converting to list\n",
        "flight_list = list(flight_codes)\n",
        "flight_list.append(\"UA404\")\n",
        "flight_codes = tuple(flight_list)\n",
        "print(\"Updated flight codes:\", flight_codes)\n"
      ],
      "metadata": {
        "colab": {
          "base_uri": "https://localhost:8080/"
        },
        "id": "Tni_Z8zahk8Q",
        "outputId": "0b6e425a-8dd0-4362-e5e4-3a041d56d652"
      },
      "execution_count": null,
      "outputs": [
        {
          "output_type": "stream",
          "name": "stdout",
          "text": [
            "First flight code: AI101\n",
            "Is 'BA202' in flights? True\n",
            "Updated flight codes: ('AI101', 'BA202', 'DL303', 'UA404')\n"
          ]
        }
      ]
    },
    {
      "cell_type": "markdown",
      "source": [
        "## 4. Sets"
      ],
      "metadata": {
        "id": "-szQwHHxhoVN"
      }
    },
    {
      "cell_type": "markdown",
      "source": [
        "Problem :\n",
        "A university keeps track of unique courses each student is enrolled in. Since a student cannot register for the same course twice, duplicates must be avoided. The university wants to:\n",
        "\n",
        "Add new courses a student enrolls in.\n",
        "\n",
        "Remove courses the student drops.\n",
        "\n",
        "Check whether the student is enrolled in a specific course."
      ],
      "metadata": {
        "id": "yYs2qZMQhsof"
      }
    },
    {
      "cell_type": "code",
      "source": [
        "courses = {\"Math\", \"Physics\", \"Chemistry\", \"Math\"}\n",
        "\n",
        "# Add a new course\n",
        "courses.add(\"Biology\")\n",
        "\n",
        "# Remove a course\n",
        "courses.discard(\"Physics\")\n",
        "\n",
        "# Check membership\n",
        "print(\"Enrolled in Chemistry?\", \"Chemistry\" in courses)\n",
        "print(\"Current Courses:\", courses)\n"
      ],
      "metadata": {
        "colab": {
          "base_uri": "https://localhost:8080/"
        },
        "id": "3u1rLnQMhzS2",
        "outputId": "7550a7e6-0c76-450e-b9da-93cf182c2043"
      },
      "execution_count": null,
      "outputs": [
        {
          "output_type": "stream",
          "name": "stdout",
          "text": [
            "Enrolled in Chemistry? True\n",
            "Current Courses: {'Math', 'Biology', 'Chemistry'}\n"
          ]
        }
      ]
    },
    {
      "cell_type": "markdown",
      "source": [
        "## 5.Dictionary"
      ],
      "metadata": {
        "id": "PhwtYlxOh8Q9"
      }
    },
    {
      "cell_type": "markdown",
      "source": [
        "Problem :\n",
        "A bank maintains account balances for its customers. Each customer has a unique name associated with their balance. The bank wants to:\n",
        "\n",
        "Update the balance when a deposit or withdrawal occurs.\n",
        "\n",
        "Add new customers to the system.\n",
        "\n",
        "Display all customer balances efficiently."
      ],
      "metadata": {
        "id": "TVJEBHXmh_nB"
      }
    },
    {
      "cell_type": "code",
      "source": [
        "accounts = {\"Alice\": 5000, \"Bob\": 3000, \"Charlie\": 2000}\n",
        "\n",
        "# Update balance\n",
        "accounts[\"Bob\"] += 1000\n",
        "\n",
        "# Add new account\n",
        "accounts[\"David\"] = 4000\n",
        "\n",
        "# Display all balances\n",
        "for name, balance in accounts.items():\n",
        "    print(f\"{name}: {balance}\")\n"
      ],
      "metadata": {
        "id": "g76JuuDwiDFR"
      },
      "execution_count": null,
      "outputs": []
    },
    {
      "cell_type": "markdown",
      "source": [
        "##6. Stacks_queues"
      ],
      "metadata": {
        "id": "i_8_l-etdseA"
      }
    },
    {
      "cell_type": "markdown",
      "source": [
        "Problem:\n",
        "A customer support center serves calls in first-come, first-served order (FIFO). When a new customer calls, their name is added to the queue. When an agent becomes free, the first customer is served."
      ],
      "metadata": {
        "id": "aa_d9fH_dzRs"
      }
    },
    {
      "cell_type": "code",
      "source": [
        "from collections import deque\n",
        "\n",
        "# Queue of customers\n",
        "queue = deque([\"Alice\", \"Bob\", \"Charlie\"])\n",
        "print(\"Initial Queue:\", queue)\n",
        "\n",
        "# New customer joins\n",
        "queue.append(\"Diana\")\n",
        "print(\"After adding Diana:\", queue)\n",
        "\n",
        "# Serve customers one by one\n",
        "while queue:\n",
        "    customer = queue.popleft()\n",
        "    print(\"Serving:\", customer)\n"
      ],
      "metadata": {
        "colab": {
          "base_uri": "https://localhost:8080/"
        },
        "id": "bTlkkuw2d38Q",
        "outputId": "a4a78c43-d758-4d15-ad17-361c002ab162"
      },
      "execution_count": null,
      "outputs": [
        {
          "output_type": "stream",
          "name": "stdout",
          "text": [
            "Initial Queue: deque(['Alice', 'Bob', 'Charlie'])\n",
            "After adding Diana: deque(['Alice', 'Bob', 'Charlie', 'Diana'])\n",
            "Serving: Alice\n",
            "Serving: Bob\n",
            "Serving: Charlie\n",
            "Serving: Diana\n"
          ]
        }
      ]
    },
    {
      "cell_type": "markdown",
      "source": [
        "## 7.Linked_lists"
      ],
      "metadata": {
        "id": "pxMjT0oOd7AJ"
      }
    },
    {
      "cell_type": "markdown",
      "source": [
        "Problem:\n",
        "An e-commerce site tracks customer orders using a linked list, where each node represents an order ID. The company wants to insert new orders and traverse the list."
      ],
      "metadata": {
        "id": "25waq9KAeD5x"
      }
    },
    {
      "cell_type": "code",
      "source": [
        "class Node:\n",
        "    def __init__(self, data):\n",
        "        self.data = data\n",
        "        self.next = None\n",
        "\n",
        "class LinkedList:\n",
        "    def __init__(self):\n",
        "        self.head = None\n",
        "\n",
        "    def append(self, data):\n",
        "        new_node = Node(data)\n",
        "        if not self.head:\n",
        "            self.head = new_node\n",
        "        else:\n",
        "            current = self.head\n",
        "            while current.next:\n",
        "                current = current.next\n",
        "            current.next = new_node\n",
        "\n",
        "    def display(self):\n",
        "        current = self.head\n",
        "        while current:\n",
        "            print(current.data, end=\" -> \")\n",
        "            current = current.next\n",
        "        print(\"None\")\n",
        "\n",
        "# Example\n",
        "orders = LinkedList()\n",
        "orders.append(\"Order101\")\n",
        "orders.append(\"Order102\")\n",
        "orders.append(\"Order103\")\n",
        "orders.display()\n"
      ],
      "metadata": {
        "colab": {
          "base_uri": "https://localhost:8080/"
        },
        "id": "L-X7jP1teHrF",
        "outputId": "c93fdd56-982e-4021-dfb1-00fff7789525"
      },
      "execution_count": null,
      "outputs": [
        {
          "output_type": "stream",
          "name": "stdout",
          "text": [
            "Order101 -> Order102 -> Order103 -> None\n"
          ]
        }
      ]
    },
    {
      "cell_type": "markdown",
      "source": [
        "## 8.Hashmaps"
      ],
      "metadata": {
        "id": "5YKpi9aTeNlJ"
      }
    },
    {
      "cell_type": "markdown",
      "source": [
        "Problem:\n",
        "A website logs user IDs when they log in, but duplicates are present. You need to remove duplicates while keeping the first occurrence."
      ],
      "metadata": {
        "id": "GEmVeiQseTsw"
      }
    },
    {
      "cell_type": "code",
      "source": [
        "user_logs = [\"u1\", \"u2\", \"u1\", \"u3\", \"u2\", \"u4\"]\n",
        "seen = {}\n",
        "unique_users = []\n",
        "\n",
        "for user in user_logs:\n",
        "    if user not in seen:\n",
        "        seen[user] = True\n",
        "        unique_users.append(user)\n",
        "\n",
        "print(\"Unique Users in Order:\", unique_users)\n"
      ],
      "metadata": {
        "colab": {
          "base_uri": "https://localhost:8080/"
        },
        "id": "felM6XnyeWi4",
        "outputId": "feab2d92-b361-4887-a0c6-b572dd04be51"
      },
      "execution_count": null,
      "outputs": [
        {
          "output_type": "stream",
          "name": "stdout",
          "text": [
            "Unique Users in Order: ['u1', 'u2', 'u3', 'u4']\n"
          ]
        }
      ]
    },
    {
      "cell_type": "markdown",
      "source": [
        "## 9.Sorting_Searching"
      ],
      "metadata": {
        "id": "QXKf8qN-fSuC"
      }
    },
    {
      "cell_type": "markdown",
      "source": [
        "Problem:\n",
        "The pricing team wants to quickly check if a product with price X exists in the catalog. Use binary search for efficiency."
      ],
      "metadata": {
        "id": "NENQnrt_fZ2z"
      }
    },
    {
      "cell_type": "code",
      "source": [
        "def binary_search(arr, target):\n",
        "    low, high = 0, len(arr) - 1\n",
        "    while low <= high:\n",
        "        mid = (low + high) // 2\n",
        "        if arr[mid] == target:\n",
        "            return True\n",
        "        elif arr[mid] < target:\n",
        "            low = mid + 1\n",
        "        else:\n",
        "            high = mid - 1\n",
        "    return False\n",
        "\n",
        "prices = [100, 200, 300, 400, 500]\n",
        "print(\"Is 300 in catalog?\", binary_search(prices, 300))\n",
        "print(\"Is 700 in catalog?\", binary_search(prices, 700))\n"
      ],
      "metadata": {
        "colab": {
          "base_uri": "https://localhost:8080/"
        },
        "id": "FzXzbeCbfbJ1",
        "outputId": "5cc27937-4d96-4099-cdf4-d4b65af7b43d"
      },
      "execution_count": null,
      "outputs": [
        {
          "output_type": "stream",
          "name": "stdout",
          "text": [
            "Is 300 in catalog? True\n",
            "Is 700 in catalog? False\n"
          ]
        }
      ]
    },
    {
      "cell_type": "markdown",
      "source": [
        "## 9.Trees_traversals"
      ],
      "metadata": {
        "id": "j9BvhD19ffew"
      }
    },
    {
      "cell_type": "markdown",
      "source": [
        "Problem:\n",
        "A retail site’s product catalog is hierarchical (Home → Kitchen → Appliances). Represent it as a tree and perform preorder traversal."
      ],
      "metadata": {
        "id": "3D0j8ns4f3Fy"
      }
    },
    {
      "cell_type": "code",
      "source": [
        "class TreeNode:\n",
        "    def __init__(self, value):\n",
        "        self.value = value\n",
        "        self.children = []\n",
        "\n",
        "    def add_child(self, node):\n",
        "        self.children.append(node)\n",
        "\n",
        "def preorder(node):\n",
        "    if not node:\n",
        "        return\n",
        "    print(node.value)\n",
        "    for child in node.children:\n",
        "        preorder(child)\n",
        "\n",
        "# Example catalog\n",
        "root = TreeNode(\"Home\")\n",
        "kitchen = TreeNode(\"Kitchen\")\n",
        "appliances = TreeNode(\"Appliances\")\n",
        "root.add_child(kitchen)\n",
        "kitchen.add_child(appliances)\n",
        "\n",
        "preorder(root)\n"
      ],
      "metadata": {
        "colab": {
          "base_uri": "https://localhost:8080/"
        },
        "id": "GGnHXrMJf6Wv",
        "outputId": "4b7bd9e6-02db-4be4-8b92-b9df59cd7537"
      },
      "execution_count": null,
      "outputs": [
        {
          "output_type": "stream",
          "name": "stdout",
          "text": [
            "Home\n",
            "Kitchen\n",
            "Appliances\n"
          ]
        }
      ]
    },
    {
      "cell_type": "markdown",
      "source": [
        "##10. Graphs_Bfs"
      ],
      "metadata": {
        "id": "80SIvpq2iZjt"
      }
    },
    {
      "cell_type": "markdown",
      "source": [
        "Problem:\n",
        "A social media app wants to know which users are reachable from a given user. Represent friendships as a graph and use BFS to find reachable users."
      ],
      "metadata": {
        "id": "FGBueniOigbD"
      }
    },
    {
      "cell_type": "code",
      "source": [
        "from collections import deque\n",
        "\n",
        "graph = {\n",
        "    \"Alice\": [\"Bob\", \"Charlie\"],\n",
        "    \"Bob\": [\"Alice\", \"David\"],\n",
        "    \"Charlie\": [\"Alice\"],\n",
        "    \"David\": [\"Bob\"]\n",
        "}\n",
        "\n",
        "def bfs(start):\n",
        "    visited = set()\n",
        "    queue = deque([start])\n",
        "    while queue:\n",
        "        user = queue.popleft()\n",
        "        if user not in visited:\n",
        "            print(user)\n",
        "            visited.add(user)\n",
        "            queue.extend(graph[user])\n",
        "\n",
        "bfs(\"Alice\")\n"
      ],
      "metadata": {
        "colab": {
          "base_uri": "https://localhost:8080/"
        },
        "id": "VCZUDq_uijRr",
        "outputId": "f983d26c-cecf-409e-e1d8-f77a44664ce5"
      },
      "execution_count": null,
      "outputs": [
        {
          "output_type": "stream",
          "name": "stdout",
          "text": [
            "Alice\n",
            "Bob\n",
            "Charlie\n",
            "David\n"
          ]
        }
      ]
    },
    {
      "cell_type": "markdown",
      "source": [
        "## 11. Heaps"
      ],
      "metadata": {
        "id": "oYe4dgObi2zK"
      }
    },
    {
      "cell_type": "markdown",
      "source": [
        "Problem:\n",
        "A shipping company always ships the lightest package first. Use a min-heap to simulate priority shipping."
      ],
      "metadata": {
        "id": "126o-czYi842"
      }
    },
    {
      "cell_type": "code",
      "source": [
        "import heapq\n",
        "\n",
        "packages = [40, 10, 30, 20, 50]\n",
        "heapq.heapify(packages)\n",
        "\n",
        "print(\"Shipping Order (lightest first):\")\n",
        "while packages:\n",
        "    print(heapq.heappop(packages))\n"
      ],
      "metadata": {
        "colab": {
          "base_uri": "https://localhost:8080/"
        },
        "id": "4MqQf8BZjCVk",
        "outputId": "f1c52684-969a-4a0e-abe8-d9e92742c4f7"
      },
      "execution_count": null,
      "outputs": [
        {
          "output_type": "stream",
          "name": "stdout",
          "text": [
            "Shipping Order (lightest first):\n",
            "10\n",
            "20\n",
            "30\n",
            "40\n",
            "50\n"
          ]
        }
      ]
    },
    {
      "cell_type": "markdown",
      "source": [
        "## 11.Big_O_Notation"
      ],
      "metadata": {
        "id": "HsjR8Zz7jHZD"
      }
    },
    {
      "cell_type": "markdown",
      "source": [
        "Problem:\n",
        "Create a quick Big-O complexity cheat sheet with examples for common operations."
      ],
      "metadata": {
        "id": "2hKVh4bajR6v"
      }
    },
    {
      "cell_type": "code",
      "source": [
        "# O(1) - constant\n",
        "arr = [1, 2, 3]\n",
        "print(\"Access element:\", arr[0])\n",
        "\n",
        "# O(n) - linear\n",
        "for x in arr:\n",
        "    print(x)\n",
        "\n",
        "# O(log n) - binary search\n",
        "def binary_search(arr, target):\n",
        "    low, high = 0, len(arr)-1\n",
        "    while low <= high:\n",
        "        mid = (low + high)//2\n",
        "        if arr[mid] == target:\n",
        "            return mid\n",
        "        elif arr[mid] < target:\n",
        "            low = mid+1\n",
        "        else:\n",
        "            high = mid-1\n",
        "    return -1\n",
        "\n",
        "print(\"Binary search result:\", binary_search([1,2,3,4,5], 3))\n"
      ],
      "metadata": {
        "colab": {
          "base_uri": "https://localhost:8080/"
        },
        "id": "a4JmXpxmjVWI",
        "outputId": "56fd2e20-5b8a-42c2-dbbe-6f1b414232ed"
      },
      "execution_count": null,
      "outputs": [
        {
          "output_type": "stream",
          "name": "stdout",
          "text": [
            "Access element: 1\n",
            "1\n",
            "2\n",
            "3\n",
            "Binary search result: 2\n"
          ]
        }
      ]
    }
  ]
}